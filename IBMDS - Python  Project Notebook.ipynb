{
 "cells": [
  {
   "cell_type": "code",
   "execution_count": 3,
   "id": "899b9345",
   "metadata": {},
   "outputs": [],
   "source": [
    "import yfinance as yf\n",
    "import pandas as pd"
   ]
  },
  {
   "cell_type": "code",
   "execution_count": 5,
   "id": "87ed1bb4",
   "metadata": {
    "scrolled": true
   },
   "outputs": [
    {
     "data": {
      "text/plain": [
       "{'zip': '95014',\n",
       " 'sector': 'Technology',\n",
       " 'fullTimeEmployees': 164000,\n",
       " 'longBusinessSummary': 'Apple Inc. designs, manufactures, and markets smartphones, personal computers, tablets, wearables, and accessories worldwide. It also sells various related services. In addition, the company offers iPhone, a line of smartphones; Mac, a line of personal computers; iPad, a line of multi-purpose tablets; and wearables, home, and accessories comprising AirPods, Apple TV, Apple Watch, Beats products, and HomePod. Further, it provides AppleCare support and cloud services store services; and operates various platforms, including the App Store that allow customers to discover and download applications and digital content, such as books, music, video, games, and podcasts. Additionally, the company offers various services, such as Apple Arcade, a game subscription service; Apple Fitness+, a personalized fitness service; Apple Music, which offers users a curated listening experience with on-demand radio stations; Apple News+, a subscription news and magazine service; Apple TV+, which offers exclusive original content; Apple Card, a co-branded credit card; and Apple Pay, a cashless payment service, as well as licenses its intellectual property. The company serves consumers, and small and mid-sized businesses; and the education, enterprise, and government markets. It distributes third-party applications for its products through the App Store. The company also sells its products through its retail and online stores, and direct sales force; and third-party cellular network carriers, wholesalers, retailers, and resellers. Apple Inc. was incorporated in 1977 and is headquartered in Cupertino, California.',\n",
       " 'city': 'Cupertino',\n",
       " 'phone': '408 996 1010',\n",
       " 'state': 'CA',\n",
       " 'country': 'United States',\n",
       " 'companyOfficers': [],\n",
       " 'website': 'https://www.apple.com',\n",
       " 'maxAge': 1,\n",
       " 'address1': 'One Apple Park Way',\n",
       " 'industry': 'Consumer Electronics',\n",
       " 'ebitdaMargins': 0.33105,\n",
       " 'profitMargins': 0.2531,\n",
       " 'grossMargins': 0.43310001,\n",
       " 'operatingCashflow': 122151002112,\n",
       " 'revenueGrowth': 0.081,\n",
       " 'operatingMargins': 0.30289,\n",
       " 'ebitda': 130541002752,\n",
       " 'targetLowPrice': 122,\n",
       " 'recommendationKey': 'buy',\n",
       " 'grossProfits': 170782000000,\n",
       " 'freeCashflow': 90215251968,\n",
       " 'targetMedianPrice': 180,\n",
       " 'currentPrice': 142.65,\n",
       " 'earningsGrowth': 0.048,\n",
       " 'currentRatio': 0.879,\n",
       " 'returnOnAssets': 0.21214001,\n",
       " 'numberOfAnalystOpinions': 41,\n",
       " 'targetMeanPrice': 178.15,\n",
       " 'debtToEquity': 261.446,\n",
       " 'returnOnEquity': 1.75459,\n",
       " 'targetHighPrice': 214,\n",
       " 'totalCash': 48304001024,\n",
       " 'totalDebt': 132480000000,\n",
       " 'totalRevenue': 394328014848,\n",
       " 'totalCashPerShare': 3.036,\n",
       " 'financialCurrency': 'USD',\n",
       " 'revenuePerShare': 24.317,\n",
       " 'quickRatio': 0.709,\n",
       " 'recommendationMean': 1.9,\n",
       " 'exchange': 'NMS',\n",
       " 'shortName': 'Apple Inc.',\n",
       " 'longName': 'Apple Inc.',\n",
       " 'exchangeTimezoneName': 'America/New_York',\n",
       " 'exchangeTimezoneShortName': 'EST',\n",
       " 'isEsgPopulated': False,\n",
       " 'gmtOffSetMilliseconds': '-18000000',\n",
       " 'quoteType': 'EQUITY',\n",
       " 'symbol': 'AAPL',\n",
       " 'messageBoardId': 'finmb_24937',\n",
       " 'market': 'us_market',\n",
       " 'annualHoldingsTurnover': None,\n",
       " 'enterpriseToRevenue': 5.979,\n",
       " 'beta3Year': None,\n",
       " 'enterpriseToEbitda': 18.06,\n",
       " '52WeekChange': -0.19259852,\n",
       " 'morningStarRiskRating': None,\n",
       " 'forwardEps': 6.8,\n",
       " 'revenueQuarterlyGrowth': None,\n",
       " 'sharesOutstanding': 15908100096,\n",
       " 'fundInceptionDate': None,\n",
       " 'annualReportExpenseRatio': None,\n",
       " 'totalAssets': None,\n",
       " 'bookValue': 3.178,\n",
       " 'sharesShort': 114431895,\n",
       " 'sharesPercentSharesOut': 0.0072000003,\n",
       " 'fundFamily': None,\n",
       " 'lastFiscalYearEnd': 1663977600,\n",
       " 'heldPercentInstitutions': 0.60007,\n",
       " 'netIncomeToCommon': 99802996736,\n",
       " 'trailingEps': 6.11,\n",
       " 'lastDividendValue': 0.23,\n",
       " 'SandP52WeekChange': -0.15715861,\n",
       " 'priceToBook': 44.88672,\n",
       " 'heldPercentInsiders': 0.00071999995,\n",
       " 'nextFiscalYearEnd': 1727136000,\n",
       " 'yield': None,\n",
       " 'mostRecentQuarter': 1663977600,\n",
       " 'shortRatio': 1.23,\n",
       " 'sharesShortPreviousMonthDate': 1665705600,\n",
       " 'floatShares': 15891414476,\n",
       " 'beta': 1.219468,\n",
       " 'enterpriseValue': 2357605171200,\n",
       " 'priceHint': 2,\n",
       " 'threeYearAverageReturn': None,\n",
       " 'lastSplitDate': 1598832000,\n",
       " 'lastSplitFactor': '4:1',\n",
       " 'legalType': None,\n",
       " 'lastDividendDate': 1667520000,\n",
       " 'morningStarOverallRating': None,\n",
       " 'earningsQuarterlyGrowth': 0.008,\n",
       " 'priceToSalesTrailing12Months': 5.7548294,\n",
       " 'dateShortInterest': 1668470400,\n",
       " 'pegRatio': 2.54,\n",
       " 'ytdReturn': None,\n",
       " 'forwardPE': 20.97794,\n",
       " 'lastCapGain': None,\n",
       " 'shortPercentOfFloat': 0.0072000003,\n",
       " 'sharesShortPriorMonth': 108664761,\n",
       " 'impliedSharesOutstanding': 0,\n",
       " 'category': None,\n",
       " 'fiveYearAverageReturn': None,\n",
       " 'previousClose': 140.94,\n",
       " 'regularMarketOpen': 142.36,\n",
       " 'twoHundredDayAverage': 153.61784,\n",
       " 'trailingAnnualDividendYield': 0.0063856957,\n",
       " 'payoutRatio': 0.14729999,\n",
       " 'volume24Hr': None,\n",
       " 'regularMarketDayHigh': 143.52,\n",
       " 'navPrice': None,\n",
       " 'averageDailyVolume10Day': 69763220,\n",
       " 'regularMarketPreviousClose': 140.94,\n",
       " 'fiftyDayAverage': 145.3022,\n",
       " 'trailingAnnualDividendRate': 0.9,\n",
       " 'open': 142.36,\n",
       " 'toCurrency': None,\n",
       " 'averageVolume10days': 69763220,\n",
       " 'expireDate': None,\n",
       " 'algorithm': None,\n",
       " 'dividendRate': 0.92,\n",
       " 'exDividendDate': 1667520000,\n",
       " 'circulatingSupply': None,\n",
       " 'startDate': None,\n",
       " 'regularMarketDayLow': 141.1,\n",
       " 'currency': 'USD',\n",
       " 'trailingPE': 23.346972,\n",
       " 'regularMarketVolume': 61979107,\n",
       " 'lastMarket': None,\n",
       " 'maxSupply': None,\n",
       " 'openInterest': None,\n",
       " 'marketCap': 2269290430464,\n",
       " 'volumeAllCurrencies': None,\n",
       " 'strikePrice': None,\n",
       " 'averageVolume': 89209182,\n",
       " 'dayLow': 141.1,\n",
       " 'ask': 142.58,\n",
       " 'askSize': 1100,\n",
       " 'volume': 61979107,\n",
       " 'fiftyTwoWeekHigh': 182.94,\n",
       " 'fromCurrency': None,\n",
       " 'fiveYearAvgDividendYield': 0.99,\n",
       " 'fiftyTwoWeekLow': 129.04,\n",
       " 'bid': 142.45,\n",
       " 'tradeable': False,\n",
       " 'dividendYield': 0.0064,\n",
       " 'bidSize': 1100,\n",
       " 'dayHigh': 143.52,\n",
       " 'coinMarketCapLink': None,\n",
       " 'regularMarketPrice': 142.65,\n",
       " 'preMarketPrice': 142.4,\n",
       " 'logo_url': 'https://logo.clearbit.com/apple.com',\n",
       " 'trailingPegRatio': 2.8596}"
      ]
     },
     "execution_count": 5,
     "metadata": {},
     "output_type": "execute_result"
    }
   ],
   "source": [
    "apple = yf.Ticker(\"AAPL\")\n",
    "apple_info=apple.info\n",
    "apple_info"
   ]
  },
  {
   "cell_type": "code",
   "execution_count": 6,
   "id": "ab1bd5b6",
   "metadata": {},
   "outputs": [
    {
     "data": {
      "text/plain": [
       "'United States'"
      ]
     },
     "execution_count": 6,
     "metadata": {},
     "output_type": "execute_result"
    }
   ],
   "source": [
    "apple_info['country']"
   ]
  },
  {
   "cell_type": "code",
   "execution_count": 9,
   "id": "2f73c1e0",
   "metadata": {},
   "outputs": [],
   "source": [
    "apple_share_price_data = apple.history(period=\"max\")"
   ]
  },
  {
   "cell_type": "code",
   "execution_count": 10,
   "id": "d47d132a",
   "metadata": {},
   "outputs": [
    {
     "data": {
      "text/html": [
       "<div>\n",
       "<style scoped>\n",
       "    .dataframe tbody tr th:only-of-type {\n",
       "        vertical-align: middle;\n",
       "    }\n",
       "\n",
       "    .dataframe tbody tr th {\n",
       "        vertical-align: top;\n",
       "    }\n",
       "\n",
       "    .dataframe thead th {\n",
       "        text-align: right;\n",
       "    }\n",
       "</style>\n",
       "<table border=\"1\" class=\"dataframe\">\n",
       "  <thead>\n",
       "    <tr style=\"text-align: right;\">\n",
       "      <th></th>\n",
       "      <th>Open</th>\n",
       "      <th>High</th>\n",
       "      <th>Low</th>\n",
       "      <th>Close</th>\n",
       "      <th>Volume</th>\n",
       "      <th>Dividends</th>\n",
       "      <th>Stock Splits</th>\n",
       "    </tr>\n",
       "    <tr>\n",
       "      <th>Date</th>\n",
       "      <th></th>\n",
       "      <th></th>\n",
       "      <th></th>\n",
       "      <th></th>\n",
       "      <th></th>\n",
       "      <th></th>\n",
       "      <th></th>\n",
       "    </tr>\n",
       "  </thead>\n",
       "  <tbody>\n",
       "    <tr>\n",
       "      <th>1980-12-12 00:00:00-05:00</th>\n",
       "      <td>0.099874</td>\n",
       "      <td>0.100308</td>\n",
       "      <td>0.099874</td>\n",
       "      <td>0.099874</td>\n",
       "      <td>469033600</td>\n",
       "      <td>0.0</td>\n",
       "      <td>0.0</td>\n",
       "    </tr>\n",
       "    <tr>\n",
       "      <th>1980-12-15 00:00:00-05:00</th>\n",
       "      <td>0.095098</td>\n",
       "      <td>0.095098</td>\n",
       "      <td>0.094663</td>\n",
       "      <td>0.094663</td>\n",
       "      <td>175884800</td>\n",
       "      <td>0.0</td>\n",
       "      <td>0.0</td>\n",
       "    </tr>\n",
       "    <tr>\n",
       "      <th>1980-12-16 00:00:00-05:00</th>\n",
       "      <td>0.088149</td>\n",
       "      <td>0.088149</td>\n",
       "      <td>0.087715</td>\n",
       "      <td>0.087715</td>\n",
       "      <td>105728000</td>\n",
       "      <td>0.0</td>\n",
       "      <td>0.0</td>\n",
       "    </tr>\n",
       "    <tr>\n",
       "      <th>1980-12-17 00:00:00-05:00</th>\n",
       "      <td>0.089886</td>\n",
       "      <td>0.090320</td>\n",
       "      <td>0.089886</td>\n",
       "      <td>0.089886</td>\n",
       "      <td>86441600</td>\n",
       "      <td>0.0</td>\n",
       "      <td>0.0</td>\n",
       "    </tr>\n",
       "    <tr>\n",
       "      <th>1980-12-18 00:00:00-05:00</th>\n",
       "      <td>0.092492</td>\n",
       "      <td>0.092927</td>\n",
       "      <td>0.092492</td>\n",
       "      <td>0.092492</td>\n",
       "      <td>73449600</td>\n",
       "      <td>0.0</td>\n",
       "      <td>0.0</td>\n",
       "    </tr>\n",
       "  </tbody>\n",
       "</table>\n",
       "</div>"
      ],
      "text/plain": [
       "                               Open      High       Low     Close     Volume  \\\n",
       "Date                                                                           \n",
       "1980-12-12 00:00:00-05:00  0.099874  0.100308  0.099874  0.099874  469033600   \n",
       "1980-12-15 00:00:00-05:00  0.095098  0.095098  0.094663  0.094663  175884800   \n",
       "1980-12-16 00:00:00-05:00  0.088149  0.088149  0.087715  0.087715  105728000   \n",
       "1980-12-17 00:00:00-05:00  0.089886  0.090320  0.089886  0.089886   86441600   \n",
       "1980-12-18 00:00:00-05:00  0.092492  0.092927  0.092492  0.092492   73449600   \n",
       "\n",
       "                           Dividends  Stock Splits  \n",
       "Date                                                \n",
       "1980-12-12 00:00:00-05:00        0.0           0.0  \n",
       "1980-12-15 00:00:00-05:00        0.0           0.0  \n",
       "1980-12-16 00:00:00-05:00        0.0           0.0  \n",
       "1980-12-17 00:00:00-05:00        0.0           0.0  \n",
       "1980-12-18 00:00:00-05:00        0.0           0.0  "
      ]
     },
     "execution_count": 10,
     "metadata": {},
     "output_type": "execute_result"
    }
   ],
   "source": [
    "apple_share_price_data.head()"
   ]
  },
  {
   "cell_type": "code",
   "execution_count": 11,
   "id": "a09f82b0",
   "metadata": {},
   "outputs": [],
   "source": [
    "apple_share_price_data.reset_index(inplace=True)"
   ]
  },
  {
   "cell_type": "code",
   "execution_count": 12,
   "id": "08b209c7",
   "metadata": {},
   "outputs": [
    {
     "data": {
      "text/plain": [
       "<AxesSubplot:xlabel='Date'>"
      ]
     },
     "execution_count": 12,
     "metadata": {},
     "output_type": "execute_result"
    },
    {
     "data": {
      "image/png": "[encoded data removed]",
      "text/plain": [
       "<Figure size 640x480 with 1 Axes>"
      ]
     },
     "metadata": {},
     "output_type": "display_data"
    }
   ],
   "source": [
    "apple_share_price_data.plot(x=\"Date\", y=\"Open\")"
   ]
  },
  {
   "cell_type": "code",
   "execution_count": 13,
   "id": "9c19323c",
   "metadata": {},
   "outputs": [
    {
     "data": {
      "text/plain": [
       "Date\n",
       "1987-05-11 00:00:00-04:00    0.000536\n",
       "1987-08-10 00:00:00-04:00    0.000536\n",
       "1987-11-17 00:00:00-05:00    0.000714\n",
       "1988-02-12 00:00:00-05:00    0.000714\n",
       "1988-05-16 00:00:00-04:00    0.000714\n",
       "                               ...   \n",
       "2021-11-05 00:00:00-04:00    0.220000\n",
       "2022-02-04 00:00:00-05:00    0.220000\n",
       "2022-05-06 00:00:00-04:00    0.230000\n",
       "2022-08-05 00:00:00-04:00    0.230000\n",
       "2022-11-04 00:00:00-04:00    0.230000\n",
       "Name: Dividends, Length: 77, dtype: float64"
      ]
     },
     "execution_count": 13,
     "metadata": {},
     "output_type": "execute_result"
    }
   ],
   "source": [
    "apple.dividends"
   ]
  },
  {
   "cell_type": "code",
   "execution_count": 14,
   "id": "ea58155c",
   "metadata": {},
   "outputs": [
    {
     "data": {
      "text/plain": [
       "<AxesSubplot:xlabel='Date'>"
      ]
     },
     "execution_count": 14,
     "metadata": {},
     "output_type": "execute_result"
    },
    {
     "data": {
      "image/png": "[encoded data removed]",
      "text/plain": [
       "<Figure size 640x480 with 1 Axes>"
      ]
     },
     "metadata": {},
     "output_type": "display_data"
    }
   ],
   "source": [
    "apple.dividends.plot()"
   ]
  },
  {
   "cell_type": "code",
   "execution_count": null,
   "id": "4e97b113",
   "metadata": {},
   "outputs": [],
   "source": []
  }
 ],
 "metadata": {
  "kernelspec": {
   "display_name": "Python 3 (ipykernel)",
   "language": "python",
   "name": "python3"
  },
  "language_info": {
   "codemirror_mode": {
    "name": "ipython",
    "version": 3
   },
   "file_extension": ".py",
   "mimetype": "text/x-python",
   "name": "python",
   "nbconvert_exporter": "python",
   "pygments_lexer": "ipython3",
   "version": "3.9.13"
  }
 },
 "nbformat": 4,
 "nbformat_minor": 5
}
